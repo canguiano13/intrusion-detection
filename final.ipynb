{
 "cells": [
  {
   "cell_type": "markdown",
   "id": "bfa5df19-2063-470c-acd7-e0de3aad1247",
   "metadata": {},
   "source": [
    "### Prereq: install any necessary libraries you don't already have ↓"
   ]
  },
  {
   "cell_type": "code",
   "execution_count": null,
   "id": "85ad61ff-21ed-4f58-86d6-e14e87fc3261",
   "metadata": {},
   "outputs": [],
   "source": [
    "!pip install -r requirements.txt"
   ]
  },
  {
   "cell_type": "code",
   "execution_count": null,
   "id": "47ae69b7-e040-43ee-8e0c-5ecbffa9af00",
   "metadata": {},
   "outputs": [],
   "source": [
    "#import libraries\n",
    "import numpy as np\n",
    "import pandas as pd\n",
    "from sklearn.model_selection import train_test_split\n",
    "from sklearn.tree import DecisionTreeClassifier\n",
    "from sklearn.ensemble import BaggingClassifier, RandomForestClassifier\n",
    "from sklearn.metrics import accuracy_score, classification_report\n",
    "#not sure if we need these\n",
    "from mlxtend.plotting import plot_decision_regions\n",
    "from sklearn.tree import plot_tree\n",
    "from matplotlib import pyplot as plt"
   ]
  },
  {
   "cell_type": "markdown",
   "id": "a4b20b80-c161-4851-a2ae-f1ec850ce587",
   "metadata": {},
   "source": [
    "### Load data"
   ]
  },
  {
   "cell_type": "code",
   "execution_count": null,
   "id": "c61a1c62-2d6b-4757-af99-6402f3a66b2f",
   "metadata": {},
   "outputs": [],
   "source": [
    "#load in the data from the dataset\n"
   ]
  },
  {
   "cell_type": "code",
   "execution_count": null,
   "id": "1b8a8955-e38a-45c4-a647-8aeb7e0c09bc",
   "metadata": {},
   "outputs": [],
   "source": [
    "#little bit of eda"
   ]
  },
  {
   "cell_type": "markdown",
   "id": "ec30bd70-ca15-4fe3-a817-5a94d9e429bd",
   "metadata": {},
   "source": [
    "### Data processing"
   ]
  },
  {
   "cell_type": "code",
   "execution_count": null,
   "id": "c7bf8411-b09d-447a-9ac6-e3db966cf9bd",
   "metadata": {},
   "outputs": [],
   "source": [
    "#data processing 1: drop nulls"
   ]
  },
  {
   "cell_type": "code",
   "execution_count": null,
   "id": "260bb3ab-bb7a-46ba-8da5-6022aa7c66e1",
   "metadata": {},
   "outputs": [],
   "source": [
    "#data processing 2: encoding"
   ]
  },
  {
   "cell_type": "code",
   "execution_count": null,
   "id": "713f0c50-4b78-4812-bb99-b28bcf043efd",
   "metadata": {},
   "outputs": [],
   "source": [
    "#data processing 3: normalization"
   ]
  },
  {
   "cell_type": "code",
   "execution_count": null,
   "id": "1651fed6-235c-4c6c-8e5b-6df18c8677bc",
   "metadata": {},
   "outputs": [],
   "source": [
    "#data processing 4: deduplication"
   ]
  },
  {
   "cell_type": "markdown",
   "id": "ff9b5857-af0f-4bf9-8953-b4ad97b0cc63",
   "metadata": {},
   "source": [
    "### Supervised Learners"
   ]
  },
  {
   "cell_type": "code",
   "execution_count": null,
   "id": "a6a739f3-1a15-4303-b605-167f2dc4b9e2",
   "metadata": {},
   "outputs": [],
   "source": [
    "#Model 1: Decision Trees"
   ]
  },
  {
   "cell_type": "code",
   "execution_count": null,
   "id": "37966446-bf44-4263-8689-fdcedc8fede2",
   "metadata": {},
   "outputs": [],
   "source": [
    "#Model 2: Random Forest:"
   ]
  },
  {
   "cell_type": "markdown",
   "id": "46a5ada0-9f36-4993-9fd1-6290379b4dc1",
   "metadata": {},
   "source": [
    "### Unsupervised Learners"
   ]
  },
  {
   "cell_type": "code",
   "execution_count": null,
   "id": "894a0143-db78-4425-980b-7b79074b4eca",
   "metadata": {},
   "outputs": [],
   "source": [
    "#Model 3: K-Means Clustering"
   ]
  },
  {
   "cell_type": "code",
   "execution_count": null,
   "id": "1b26a185-947e-4293-950e-75b1c70e6d03",
   "metadata": {},
   "outputs": [],
   "source": [
    "#Model 4: Isolation Forest"
   ]
  },
  {
   "cell_type": "markdown",
   "id": "ad6eacf8-3520-4edf-9007-d33007bab1fa",
   "metadata": {},
   "source": [
    "### Evaluation"
   ]
  },
  {
   "cell_type": "code",
   "execution_count": null,
   "id": "980fab4d-20e8-4a73-b551-2d469d47b15d",
   "metadata": {},
   "outputs": [],
   "source": [
    "#Evaluation, Visualization"
   ]
  }
 ],
 "metadata": {
  "kernelspec": {
   "display_name": "Python 3 (ipykernel)",
   "language": "python",
   "name": "python3"
  },
  "language_info": {
   "codemirror_mode": {
    "name": "ipython",
    "version": 3
   },
   "file_extension": ".py",
   "mimetype": "text/x-python",
   "name": "python",
   "nbconvert_exporter": "python",
   "pygments_lexer": "ipython3",
   "version": "3.12.4"
  }
 },
 "nbformat": 4,
 "nbformat_minor": 5
}
